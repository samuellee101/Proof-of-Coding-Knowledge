{
 "cells": [
  {
   "cell_type": "markdown",
   "metadata": {},
   "source": [
    "# SQLite3 Connection"
   ]
  },
  {
   "cell_type": "code",
   "execution_count": 25,
   "metadata": {},
   "outputs": [],
   "source": [
    "import sqlite3\n",
    "con = sqlite3.connect('CSCI4333_Sailor.db')\n",
    "cursor = con.cursor()"
   ]
  },
  {
   "cell_type": "markdown",
   "metadata": {},
   "source": [
    "# Create Table"
   ]
  },
  {
   "cell_type": "code",
   "execution_count": 5,
   "metadata": {},
   "outputs": [],
   "source": [
    "#cursor.execute(\"DROP TABLE Sailors\")\n",
    "text= '''\n",
    "CREATE TABLE Sailors (\n",
    "sid text,\n",
    "sname text,\n",
    "rating int,\n",
    "age int,\n",
    "PRIMARY KEY (sid)\n",
    ");\n",
    "'''\n",
    "\n",
    "cursor.execute(text)\n",
    "\n",
    "#cursor.execute(\"DROP TABLE Boats\")\n",
    "\n",
    "text= '''\n",
    "CREATE TABLE Boats (\n",
    "bid text,\n",
    "bname text,\n",
    "color text,\n",
    "PRIMARY KEY (bid)\n",
    ");\n",
    "'''\n",
    "cursor.execute(text)\n",
    "\n",
    "#cursor.execute(\"DROP TABLE Reserves\")\n",
    "\n",
    "text= '''\n",
    "CREATE TABLE Reserves (\n",
    "sid text,\n",
    "bid text,\n",
    "day date,\n",
    "PRIMARY KEY (sid,bid),\n",
    "FOREIGN KEY(sid) REFERENCES Sailors(sid),\n",
    "FOREIGN KEY (bid) REFERENCES Boats(bid)\n",
    ");\n",
    "'''\n",
    "cursor.execute(text)"
   ]
  },
  {
   "cell_type": "markdown",
   "metadata": {},
   "source": [
    "# INSERT Data Sailor Example"
   ]
  },
  {
   "cell_type": "code",
   "execution_count": 8,
   "metadata": {},
   "outputs": [
    {
     "data": {
      "text/plain": [
       "<sqlite3.Cursor at 0x7f9f09c0bc70>"
      ]
     },
     "execution_count": 8,
     "metadata": {},
     "output_type": "execute_result"
    }
   ],
   "source": [
    "cursor.execute(\"INSERT INTO Sailors VALUES ('22','Dustin',7,45)\")\n",
    "cursor.execute(\"INSERT INTO Sailors VALUES ('29','Brutus',1,35)\")\n",
    "cursor.execute(\"INSERT INTO Sailors VALUES ('31','Lubber',8,55)\")\n",
    "cursor.execute(\"INSERT INTO Sailors VALUES ('32','Andy',8,25)\")\n",
    "cursor.execute(\"INSERT INTO Sailors VALUES ('58','Rusty',10,35)\")\n",
    "cursor.execute(\"INSERT INTO Sailors VALUES ('64','Horatio',7,35)\")\n",
    "cursor.execute(\"INSERT INTO Sailors VALUES ('71','Zorda',10,16)\")\n",
    "cursor.execute(\"INSERT INTO Sailors VALUES ('74','Horatio',9,35)\")\n",
    "cursor.execute(\"INSERT INTO Sailors VALUES ('85','Art',3,25)\")\n",
    "cursor.execute(\"INSERT INTO Sailors VALUES ('95','Bob',3,63)\")"
   ]
  },
  {
   "cell_type": "markdown",
   "metadata": {},
   "source": [
    "# INSERT Data Boats Example"
   ]
  },
  {
   "cell_type": "code",
   "execution_count": null,
   "metadata": {},
   "outputs": [],
   "source": [
    "def insert_boats(cursor, param):\n",
    "    command = \"INSERT INTO Boats VALUES (?,?,?)\"\n",
    "    cursor.execute(command, param)\n",
    "\n",
    "insert_boats(cursor, ('103','Clipper','green'))\n",
    "insert_boats(cursor, ('104','Marine','red'))"
   ]
  },
  {
   "cell_type": "markdown",
   "metadata": {},
   "source": [
    "# Import Data From CSV File Example"
   ]
  },
  {
   "cell_type": "code",
   "execution_count": null,
   "metadata": {},
   "outputs": [],
   "source": [
    "records = open('reserve.csv','r').readlines()\n",
    "\n",
    "data = tuple(records[1].replace('\\n','').split(','))\n",
    "\n",
    "def insert_reserves(cursor, param):\n",
    "    command = \"INSERT INTO Reserves VALUES (?,?,?)\"\n",
    "    cursor.execute(command, param)\n",
    "\n",
    "\n",
    "for i in range(1,len(records)):\n",
    "    data = tuple(records[i].replace('\\n','').split(','))\n",
    "    insert_reserves(cursor, data)"
   ]
  },
  {
   "cell_type": "markdown",
   "metadata": {},
   "source": [
    "# Functions to print table info"
   ]
  },
  {
   "cell_type": "code",
   "execution_count": 26,
   "metadata": {},
   "outputs": [],
   "source": [
    "def print_table(table_name=\"Sailors\"):\n",
    "    res_table = cursor.execute(\"SELECT * FROM \"+table_name)\n",
    "    attribute = [x[0] for x in res_table.description]\n",
    "    print(attribute)\n",
    "    print('--------------')\n",
    "    for row in res_table: print(row)"
   ]
  },
  {
   "cell_type": "code",
   "execution_count": 27,
   "metadata": {},
   "outputs": [
    {
     "name": "stdout",
     "output_type": "stream",
     "text": [
      "['sid', 'bid', 'day']\n",
      "--------------\n",
      "('22', '101', '10/10/04')\n",
      "('22', '102', '10/10/04')\n",
      "('22', '103', '10/8/04')\n",
      "('22', '104', '10/7/04')\n",
      "('31', '102', '11/10/04')\n",
      "('31', '103', '11/6/04')\n",
      "('31', '104', '11/12/04')\n",
      "('64', '101', '9/5/04')\n",
      "('64', '102', '9/8/04')\n",
      "('74', '103', '9/8/04')\n"
     ]
    }
   ],
   "source": [
    "print_table(\"Reserves\")"
   ]
  },
  {
   "cell_type": "code",
   "execution_count": null,
   "metadata": {},
   "outputs": [],
   "source": [
    "print_table(\"Boats\")"
   ]
  },
  {
   "cell_type": "code",
   "execution_count": null,
   "metadata": {},
   "outputs": [],
   "source": [
    "print_table(\"Sailors\")"
   ]
  },
  {
   "cell_type": "code",
   "execution_count": 73,
   "metadata": {},
   "outputs": [],
   "source": [
    "con.commit()"
   ]
  },
  {
   "cell_type": "markdown",
   "metadata": {},
   "source": [
    "# Example Queries"
   ]
  },
  {
   "cell_type": "code",
   "execution_count": 28,
   "metadata": {},
   "outputs": [],
   "source": [
    "#Find the name of the Sailor who reserved boat 103?\n",
    "\n",
    "def print_query_res(res_table):\n",
    "    #res_table = cursor.execute(\"SELECT * FROM \"+table_name)\n",
    "    attribute = [x[0] for x in res_table.description]\n",
    "    print(attribute)\n",
    "    print('--------------')\n",
    "    for row in res_table: print(row)\n",
    "        \n"
   ]
  },
  {
   "cell_type": "code",
   "execution_count": 31,
   "metadata": {},
   "outputs": [
    {
     "name": "stdout",
     "output_type": "stream",
     "text": [
      "['sname']\n",
      "--------------\n",
      "('Dustin',)\n",
      "('Lubber',)\n",
      "('Horatio',)\n"
     ]
    }
   ],
   "source": [
    "statement = \"SELECT sname FROM Sailors S,Reserves R WHERE S.sid=R.sid AND R.bid='103'\"\n",
    "res_table = cursor.execute(statement)\n",
    "\n",
    "print_query_res(res_table)"
   ]
  },
  {
   "cell_type": "code",
   "execution_count": 32,
   "metadata": {},
   "outputs": [
    {
     "name": "stdout",
     "output_type": "stream",
     "text": [
      "['sname']\n",
      "--------------\n",
      "('Dustin',)\n",
      "('Lubber',)\n",
      "('Horatio',)\n"
     ]
    }
   ],
   "source": [
    "statement = '''\n",
    "SELECT sname FROM Sailors S \n",
    "WHERE S.sid IN (SELECT R.sid FROM Reserves R WHERE R.bid='103')\n",
    "'''\n",
    "\n",
    "res_table = cursor.execute(statement)\n",
    "print_table2(res_table)"
   ]
  },
  {
   "cell_type": "code",
   "execution_count": 33,
   "metadata": {},
   "outputs": [
    {
     "name": "stdout",
     "output_type": "stream",
     "text": [
      "['MAX(S.rating)']\n",
      "--------------\n",
      "(10,)\n"
     ]
    }
   ],
   "source": [
    "statement = '''\n",
    "SELECT MAX(S.rating) FROM Sailors S\n",
    "'''\n",
    "\n",
    "res_table = cursor.execute(statement)\n",
    "print_table2(res_table)"
   ]
  },
  {
   "cell_type": "code",
   "execution_count": 34,
   "metadata": {},
   "outputs": [
    {
     "name": "stdout",
     "output_type": "stream",
     "text": [
      "['sid', 'sname', 'rating', 'age']\n",
      "--------------\n",
      "('22', 'Dustin', 7, 45)\n",
      "('29', 'Brutus', 1, 35)\n",
      "('31', 'Lubber', 8, 55)\n",
      "('32', 'Andy', 8, 25)\n",
      "('58', 'Rusty', 10, 35)\n",
      "('64', 'Horatio', 7, 35)\n",
      "('71', 'Zorda', 10, 16)\n",
      "('74', 'Horatio', 9, 35)\n",
      "('85', 'Art', 3, 25)\n",
      "('95', 'Bob', 3, 63)\n"
     ]
    }
   ],
   "source": [
    "statement = '''\n",
    "SELECT * FROM Sailors S\n",
    "'''\n",
    "\n",
    "res_table = cursor.execute(statement)\n",
    "print_table2(res_table)"
   ]
  },
  {
   "cell_type": "code",
   "execution_count": null,
   "metadata": {},
   "outputs": [],
   "source": []
  }
 ],
 "metadata": {
  "kernelspec": {
   "display_name": "Python 3",
   "language": "python",
   "name": "python3"
  },
  "language_info": {
   "codemirror_mode": {
    "name": "ipython",
    "version": 3
   },
   "file_extension": ".py",
   "mimetype": "text/x-python",
   "name": "python",
   "nbconvert_exporter": "python",
   "pygments_lexer": "ipython3",
   "version": "3.7.4"
  }
 },
 "nbformat": 4,
 "nbformat_minor": 4
}
