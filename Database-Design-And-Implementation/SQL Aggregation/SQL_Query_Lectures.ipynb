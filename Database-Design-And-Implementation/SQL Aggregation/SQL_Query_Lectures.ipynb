{
 "cells": [
  {
   "cell_type": "markdown",
   "metadata": {},
   "source": [
    "# SQLite3 Connection"
   ]
  },
  {
   "cell_type": "code",
   "execution_count": 1,
   "metadata": {},
   "outputs": [],
   "source": [
    "import sqlite3\n",
    "con = sqlite3.connect('CSCI4333_Sailor.db')\n",
    "cursor = con.cursor()"
   ]
  },
  {
   "cell_type": "markdown",
   "metadata": {},
   "source": [
    "# Functions to print table info"
   ]
  },
  {
   "cell_type": "code",
   "execution_count": 7,
   "metadata": {},
   "outputs": [],
   "source": [
    "def print_table(table_name=\"Sailors\"):\n",
    "    res_table = cursor.execute(\"SELECT * FROM \"+table_name)\n",
    "    attribute = [x[0] for x in res_table.description]\n",
    "    print(attribute)\n",
    "    print('--------------')\n",
    "    for row in res_table: print(row)\n",
    "\n",
    "def print_query_res(res_table):\n",
    "    #res_table = cursor.execute(\"SELECT * FROM \"+table_name)\n",
    "    attribute = [x[0] for x in res_table.description]\n",
    "    print(attribute)\n",
    "    print('--------------')\n",
    "    for row in res_table: print(row)"
   ]
  },
  {
   "cell_type": "code",
   "execution_count": 3,
   "metadata": {},
   "outputs": [
    {
     "name": "stdout",
     "output_type": "stream",
     "text": [
      "['sid', 'bid', 'day']\n",
      "--------------\n",
      "('22', '101', '10/10/04')\n",
      "('22', '102', '10/10/04')\n",
      "('22', '103', '10/8/04')\n",
      "('22', '104', '10/7/04')\n",
      "('31', '102', '11/10/04')\n",
      "('31', '103', '11/6/04')\n",
      "('31', '104', '11/12/04')\n",
      "('64', '101', '9/5/04')\n",
      "('64', '102', '9/8/04')\n",
      "('74', '103', '9/8/04')\n"
     ]
    }
   ],
   "source": [
    "print_table(\"Reserves\")"
   ]
  },
  {
   "cell_type": "code",
   "execution_count": 4,
   "metadata": {},
   "outputs": [
    {
     "name": "stdout",
     "output_type": "stream",
     "text": [
      "['bid', 'bname', 'color']\n",
      "--------------\n",
      "('101', 'Interlake', 'blue')\n",
      "('102', 'Interlake', 'red')\n",
      "('103', 'Clipper', 'green')\n",
      "('104', 'Marine', 'red')\n"
     ]
    }
   ],
   "source": [
    "print_table(\"Boats\")"
   ]
  },
  {
   "cell_type": "code",
   "execution_count": 5,
   "metadata": {},
   "outputs": [
    {
     "name": "stdout",
     "output_type": "stream",
     "text": [
      "['sid', 'sname', 'rating', 'age']\n",
      "--------------\n",
      "('22', 'Dustin', 7, 45)\n",
      "('29', 'Brutus', 1, 35)\n",
      "('31', 'Lubber', 8, 55)\n",
      "('32', 'Andy', 8, 25)\n",
      "('58', 'Rusty', 10, 35)\n",
      "('64', 'Horatio', 7, 35)\n",
      "('71', 'Zorda', 10, 16)\n",
      "('74', 'Horatio', 9, 35)\n",
      "('85', 'Art', 3, 25)\n",
      "('95', 'Bob', 3, 63)\n"
     ]
    }
   ],
   "source": [
    "print_table(\"Sailors\")"
   ]
  },
  {
   "cell_type": "markdown",
   "metadata": {},
   "source": [
    "# Simple Queries"
   ]
  },
  {
   "cell_type": "markdown",
   "metadata": {},
   "source": [
    "Q1: Find the name of the Sailor who reserved boat 103?"
   ]
  },
  {
   "cell_type": "code",
   "execution_count": 10,
   "metadata": {},
   "outputs": [
    {
     "name": "stdout",
     "output_type": "stream",
     "text": [
      "['sname']\n",
      "--------------\n",
      "('Dustin',)\n",
      "('Lubber',)\n",
      "('Horatio',)\n"
     ]
    }
   ],
   "source": [
    "#Solution 1: Basic Query\n",
    "statement = \"SELECT sname FROM Sailors S,Reserves R WHERE S.sid=R.sid AND R.bid='103'\"\n",
    "res_table = cursor.execute(statement)\n",
    "print_query_res(res_table)"
   ]
  },
  {
   "cell_type": "code",
   "execution_count": 12,
   "metadata": {},
   "outputs": [
    {
     "name": "stdout",
     "output_type": "stream",
     "text": [
      "['sname']\n",
      "--------------\n",
      "('Dustin',)\n",
      "('Lubber',)\n",
      "('Horatio',)\n"
     ]
    }
   ],
   "source": [
    "#Solution 2: Nested Query\n",
    "statement = '''\n",
    "SELECT sname FROM Sailors S \n",
    "WHERE S.sid IN (SELECT R.sid FROM Reserves R WHERE R.bid='103')\n",
    "'''\n",
    "\n",
    "res_table = cursor.execute(statement)\n",
    "print_query_res(res_table)"
   ]
  },
  {
   "cell_type": "code",
   "execution_count": 14,
   "metadata": {},
   "outputs": [
    {
     "name": "stdout",
     "output_type": "stream",
     "text": [
      "['sname']\n",
      "--------------\n",
      "('Dustin',)\n",
      "('Lubber',)\n",
      "('Horatio',)\n"
     ]
    }
   ],
   "source": [
    "#Solution 3: Natural Join Solution\n",
    "statement = \"SELECT sname FROM Sailors S NATURAL JOIN Reserves R WHERE R.bid='103'\"\n",
    "\n",
    "res_table = cursor.execute(statement)\n",
    "print_query_res(res_table)"
   ]
  },
  {
   "cell_type": "code",
   "execution_count": 15,
   "metadata": {},
   "outputs": [
    {
     "name": "stdout",
     "output_type": "stream",
     "text": [
      "['sname']\n",
      "--------------\n",
      "('Dustin',)\n",
      "('Lubber',)\n",
      "('Horatio',)\n"
     ]
    }
   ],
   "source": [
    "#Solution 4: Inner Join Solution\n",
    "statement = \"SELECT sname FROM Sailors S INNER JOIN Reserves R ON S.sid=R.sid WHERE R.bid='103'\"\n",
    "\n",
    "res_table = cursor.execute(statement)\n",
    "print_query_res(res_table)"
   ]
  },
  {
   "cell_type": "code",
   "execution_count": 18,
   "metadata": {},
   "outputs": [
    {
     "name": "stdout",
     "output_type": "stream",
     "text": [
      "['sname']\n",
      "--------------\n",
      "('Dustin',)\n",
      "('Lubber',)\n",
      "('Horatio',)\n"
     ]
    }
   ],
   "source": [
    "#Solution 5: Correlated Nested Query\n",
    "statement = '''\n",
    "SELECT sname FROM Sailors S \n",
    "WHERE EXISTS (SELECT * FROM Reserves R WHERE R.bid='103' AND R.sid=S.sid)\n",
    "'''\n",
    "\n",
    "res_table = cursor.execute(statement)\n",
    "print_query_res(res_table)"
   ]
  },
  {
   "cell_type": "markdown",
   "metadata": {},
   "source": [
    "# Aggregation Query"
   ]
  },
  {
   "cell_type": "markdown",
   "metadata": {},
   "source": [
    "Q2: Find the maximal rating of the sailors whose age is greater than 18"
   ]
  },
  {
   "cell_type": "code",
   "execution_count": 19,
   "metadata": {},
   "outputs": [
    {
     "name": "stdout",
     "output_type": "stream",
     "text": [
      "['MAX(S.rating)']\n",
      "--------------\n",
      "(10,)\n"
     ]
    }
   ],
   "source": [
    "statement = '''\n",
    "SELECT MAX(S.rating) FROM Sailors S \n",
    "WHERE S.age>18\n",
    "'''\n",
    "\n",
    "res_table = cursor.execute(statement)\n",
    "print_query_res(res_table)"
   ]
  },
  {
   "cell_type": "markdown",
   "metadata": {},
   "source": [
    "Q3: Find the mimimal age for each rating stored in the database. You answer should contains (rating, age)"
   ]
  },
  {
   "cell_type": "code",
   "execution_count": 23,
   "metadata": {},
   "outputs": [
    {
     "name": "stdout",
     "output_type": "stream",
     "text": [
      "['rating', 'MIN(S.age)']\n",
      "--------------\n",
      "(1, 35)\n",
      "(3, 25)\n",
      "(7, 35)\n",
      "(8, 25)\n",
      "(9, 35)\n",
      "(10, 16)\n"
     ]
    }
   ],
   "source": [
    "statement = '''\n",
    "SELECT S.rating, MIN(S.age) \n",
    "FROM Sailors S\n",
    "GROUP BY S.rating\n",
    "'''\n",
    "\n",
    "res_table = cursor.execute(statement)\n",
    "print_query_res(res_table)"
   ]
  },
  {
   "cell_type": "markdown",
   "metadata": {},
   "source": [
    "Q4: Find the mimimal age for each rating stored in the database. We only consider the sailor whose age is greater or equal to 18. You answer should contains (rating, age)"
   ]
  },
  {
   "cell_type": "code",
   "execution_count": 22,
   "metadata": {},
   "outputs": [
    {
     "name": "stdout",
     "output_type": "stream",
     "text": [
      "['rating', 'MIN(S.age)']\n",
      "--------------\n",
      "(1, 35)\n",
      "(3, 25)\n",
      "(7, 35)\n",
      "(8, 25)\n",
      "(9, 35)\n",
      "(10, 35)\n"
     ]
    }
   ],
   "source": [
    "statement = '''\n",
    "SELECT S.rating, MIN(S.age) \n",
    "FROM Sailors S\n",
    "WHERE S.age>=18 \n",
    "GROUP BY S.rating\n",
    "'''\n",
    "\n",
    "res_table = cursor.execute(statement)\n",
    "print_query_res(res_table)"
   ]
  },
  {
   "cell_type": "markdown",
   "metadata": {},
   "source": [
    "Q5: for each rating that has at least two sailors, find the mimimal age for each rating. We only consider the sailor whose age is greater or equal to 18. You answer should contains (rating, age)"
   ]
  },
  {
   "cell_type": "code",
   "execution_count": 25,
   "metadata": {},
   "outputs": [
    {
     "name": "stdout",
     "output_type": "stream",
     "text": [
      "['rating', 'MIN(S.age)']\n",
      "--------------\n",
      "(3, 25)\n",
      "(7, 35)\n",
      "(8, 25)\n"
     ]
    }
   ],
   "source": [
    "statement = '''\n",
    "SELECT S.rating, MIN(S.age) \n",
    "FROM Sailors S\n",
    "WHERE S.age>=18 \n",
    "GROUP BY S.rating\n",
    "HAVING COUNT(*)>1\n",
    "'''\n",
    "\n",
    "res_table = cursor.execute(statement)\n",
    "print_query_res(res_table)"
   ]
  },
  {
   "cell_type": "markdown",
   "metadata": {},
   "source": [
    "Q6: Find the average rating for each age stored in the database. You answer should contains (age, rating)"
   ]
  },
  {
   "cell_type": "code",
   "execution_count": 27,
   "metadata": {},
   "outputs": [
    {
     "name": "stdout",
     "output_type": "stream",
     "text": [
      "['age', 'AVG(S.rating)']\n",
      "--------------\n",
      "(16, 10.0)\n",
      "(25, 5.5)\n",
      "(35, 6.75)\n",
      "(45, 7.0)\n",
      "(55, 8.0)\n",
      "(63, 3.0)\n"
     ]
    }
   ],
   "source": [
    "#For every age of sailors, find the average rating\n",
    "statement = '''\n",
    "SELECT S.age, AVG(S.rating) \n",
    "FROM Sailors S\n",
    "GROUP BY S.age\n",
    "'''\n",
    "\n",
    "res_table = cursor.execute(statement)\n",
    "print_query_res(res_table)"
   ]
  },
  {
   "cell_type": "markdown",
   "metadata": {},
   "source": [
    "Q7: Find the count of boats for each boat color stored in the database. You answer should contains (color, count)"
   ]
  },
  {
   "cell_type": "code",
   "execution_count": 31,
   "metadata": {},
   "outputs": [
    {
     "name": "stdout",
     "output_type": "stream",
     "text": [
      "['color', 'COUNT(*)']\n",
      "--------------\n",
      "('blue', 1)\n",
      "('green', 1)\n",
      "('red', 2)\n"
     ]
    }
   ],
   "source": [
    "\n",
    "\n",
    "statement = '''\n",
    "SELECT B.color, COUNT(*) \n",
    "FROM Boats B\n",
    "GROUP BY B.color\n",
    "'''\n",
    "\n",
    "res_table = cursor.execute(statement)\n",
    "print_query_res(res_table)\n",
    "\n"
   ]
  },
  {
   "cell_type": "markdown",
   "metadata": {},
   "source": [
    "Q8: Find the count of reservations for each boat color stored in the database. You answer should contains (color, count)"
   ]
  },
  {
   "cell_type": "code",
   "execution_count": 34,
   "metadata": {},
   "outputs": [
    {
     "name": "stdout",
     "output_type": "stream",
     "text": [
      "['color', 'COUNT(sid)']\n",
      "--------------\n",
      "('blue', 2)\n",
      "('green', 3)\n",
      "('red', 5)\n"
     ]
    }
   ],
   "source": [
    "#For every color of the boat, count how many times the sailors reserved the boats\n",
    "\n",
    "statement = '''\n",
    "SELECT B.color,COUNT(sid)\n",
    "FROM Boats B, Reserves R\n",
    "WHERE B.bid = R.bid\n",
    "GROUP BY B.color\n",
    "'''\n",
    "\n",
    "res_table = cursor.execute(statement)\n",
    "print_query_res(res_table)\n",
    "\n"
   ]
  },
  {
   "cell_type": "markdown",
   "metadata": {},
   "source": [
    "Q9: Find the count of unique sailors for each boat color stored in the database. You answer should contains (color, count)"
   ]
  },
  {
   "cell_type": "code",
   "execution_count": 36,
   "metadata": {},
   "outputs": [
    {
     "name": "stdout",
     "output_type": "stream",
     "text": [
      "['color', 'COUNT(DISTINCT sid)']\n",
      "--------------\n",
      "('blue', 2)\n",
      "('green', 3)\n",
      "('red', 3)\n"
     ]
    }
   ],
   "source": [
    "#For every color of the boat, count how many unique sailors who reserved the boats\n",
    "\n",
    "statement = '''\n",
    "SELECT B.color,COUNT(DISTINCT sid)\n",
    "FROM Boats B, Reserves R\n",
    "WHERE B.bid = R.bid\n",
    "GROUP BY B.color\n",
    "'''\n",
    "\n",
    "res_table = cursor.execute(statement)\n",
    "print_query_res(res_table)\n"
   ]
  },
  {
   "cell_type": "markdown",
   "metadata": {},
   "source": [
    "Q10: Find the count of unique sailors for each boat color stored in the database. You answer should contains (color, count)"
   ]
  },
  {
   "cell_type": "code",
   "execution_count": null,
   "metadata": {},
   "outputs": [],
   "source": [
    "#For every color of the boat, count how many unique sailors who reserved the boats\n",
    "\n",
    "statement = '''\n",
    "SELECT B.color,COUNT(DISTINCT sid)\n",
    "FROM Boats B, Reserves R\n",
    "WHERE B.bid = R.bid\n",
    "GROUP BY B.color\n",
    "'''\n",
    "\n",
    "res_table = cursor.execute(statement)\n",
    "print_query_res(res_table)\n"
   ]
  },
  {
   "cell_type": "markdown",
   "metadata": {},
   "source": [
    "Q11: Find the average age of the reservations for each boat stored in the database. You answer should contains (bid, age)"
   ]
  },
  {
   "cell_type": "code",
   "execution_count": 38,
   "metadata": {},
   "outputs": [
    {
     "name": "stdout",
     "output_type": "stream",
     "text": [
      "['bid', 'AVG(S.age)']\n",
      "--------------\n",
      "('101', 40.0)\n",
      "('102', 45.0)\n",
      "('103', 45.0)\n",
      "('104', 50.0)\n"
     ]
    }
   ],
   "source": [
    "statement = '''\n",
    "SELECT R.bid, AVG(S.age)\n",
    "FROM Reserves R, Sailors S\n",
    "WHERE S.sid=R.sid\n",
    "GROUP BY R.bid\n",
    "'''\n",
    "res_table = cursor.execute(statement)\n",
    "print_query_res(res_table)"
   ]
  },
  {
   "cell_type": "markdown",
   "metadata": {},
   "source": [
    "Q12: For each boat which reserved by at least three unique sailors, find the average age of the reservations for each boat stored in the database. You answer should contains (bid, age)"
   ]
  },
  {
   "cell_type": "code",
   "execution_count": 40,
   "metadata": {},
   "outputs": [
    {
     "name": "stdout",
     "output_type": "stream",
     "text": [
      "['bid', 'AVG(S.age)']\n",
      "--------------\n",
      "('102', 45.0)\n",
      "('103', 45.0)\n"
     ]
    }
   ],
   "source": [
    "statement = '''\n",
    "SELECT R.bid, AVG(S.age)\n",
    "FROM Reserves R, Sailors S\n",
    "WHERE S.sid=R.sid\n",
    "GROUP BY R.bid\n",
    "HAVING COUNT(DISTINCT S.sid)>=3\n",
    "'''\n",
    "res_table = cursor.execute(statement)\n",
    "print_query_res(res_table)"
   ]
  },
  {
   "cell_type": "markdown",
   "metadata": {},
   "source": [
    "Q13: For each boat which reserved by at least two unique sailors that rating are greater than 5, find the average age of the reservations for each boat stored in the database. You answer should contains (bid, age)"
   ]
  },
  {
   "cell_type": "code",
   "execution_count": 46,
   "metadata": {},
   "outputs": [
    {
     "name": "stdout",
     "output_type": "stream",
     "text": [
      "['bid', 'AVG(S.age)']\n",
      "--------------\n",
      "('101', 40.0)\n",
      "('102', 45.0)\n",
      "('103', 45.0)\n",
      "('104', 50.0)\n"
     ]
    }
   ],
   "source": [
    "statement = '''\n",
    "SELECT R.bid, AVG(S.age)\n",
    "FROM Reserves R, Sailors S\n",
    "WHERE S.sid=R.sid AND S.rating>5\n",
    "GROUP BY R.bid\n",
    "HAVING COUNT(DISTINCT S.sid)>=2\n",
    "'''\n",
    "res_table = cursor.execute(statement)\n",
    "print_query_res(res_table)"
   ]
  },
  {
   "cell_type": "markdown",
   "metadata": {},
   "source": [
    "Q13: For each boat which reserved by at least one sailor whose age is less than 35, find the average age of the reservations for each boat stored in the database. You answer should contains (bid, age)"
   ]
  },
  {
   "cell_type": "code",
   "execution_count": 48,
   "metadata": {},
   "outputs": [
    {
     "name": "stdout",
     "output_type": "stream",
     "text": [
      "['bid', 'AVG(S.age)']\n",
      "--------------\n",
      "('101', 40.0)\n",
      "('102', 45.0)\n",
      "('103', 45.0)\n"
     ]
    }
   ],
   "source": [
    "#For each boat (bid) which reserved by at least one sailor \n",
    "#whose age is less than 20,find the average rating of the \n",
    "#sailors who reserved it\n",
    "\n",
    "statement = '''\n",
    "SELECT R.bid, AVG(S.age)\n",
    "FROM Reserves R, Sailors S\n",
    "WHERE S.sid=R.sid\n",
    "GROUP BY R.bid\n",
    "HAVING MIN(S.age)<=35\n",
    "'''\n",
    "res_table = cursor.execute(statement)\n",
    "print_query_res(res_table)"
   ]
  },
  {
   "cell_type": "markdown",
   "metadata": {},
   "source": [
    "Q14: Find the name for the sailors who reserved at least two boats."
   ]
  },
  {
   "cell_type": "code",
   "execution_count": 53,
   "metadata": {},
   "outputs": [
    {
     "name": "stdout",
     "output_type": "stream",
     "text": [
      "['sname']\n",
      "--------------\n",
      "('Dustin',)\n",
      "('Lubber',)\n",
      "('Horatio',)\n"
     ]
    }
   ],
   "source": [
    "statement = '''\n",
    "SELECT S.sname\n",
    "FROM Sailors S, Reserves R\n",
    "WHERE S.sid=R.sid\n",
    "GROUP BY S.sid, S.sname\n",
    "HAVING COUNT(bid)>=2\n",
    "'''\n",
    "\n",
    "res_table = cursor.execute(statement)\n",
    "print_query_res(res_table)\n",
    "\n"
   ]
  },
  {
   "cell_type": "markdown",
   "metadata": {},
   "source": [
    "# Aggregation + Nested Query "
   ]
  },
  {
   "cell_type": "markdown",
   "metadata": {},
   "source": [
    "Q15: Find the name for the sailors who reserved at least two boats. (Using nested query)"
   ]
  },
  {
   "cell_type": "code",
   "execution_count": 55,
   "metadata": {},
   "outputs": [
    {
     "name": "stdout",
     "output_type": "stream",
     "text": [
      "['sname']\n",
      "--------------\n",
      "('Dustin',)\n",
      "('Lubber',)\n",
      "('Horatio',)\n"
     ]
    }
   ],
   "source": [
    "statement = '''\n",
    "SELECT S.sname\n",
    "FROM Sailors S\n",
    "GROUP BY S.sid, S.sname\n",
    "HAVING (SELECT COUNT(bid) FROM Reserves R WHERE S.sid=R.sid)>=2\n",
    "'''\n",
    "\n",
    "res_table = cursor.execute(statement)\n",
    "print_query_res(res_table)\n",
    "\n"
   ]
  },
  {
   "cell_type": "markdown",
   "metadata": {},
   "source": [
    "Q16: Find the name of sailors who reserved at least two times red boats (Using nested query)"
   ]
  },
  {
   "cell_type": "code",
   "execution_count": 57,
   "metadata": {},
   "outputs": [
    {
     "name": "stdout",
     "output_type": "stream",
     "text": [
      "['sname']\n",
      "--------------\n",
      "('Dustin',)\n",
      "('Lubber',)\n"
     ]
    }
   ],
   "source": [
    "statement = '''\n",
    "SELECT S.sname\n",
    "FROM Sailors S\n",
    "GROUP BY S.sid, S.sname\n",
    "HAVING (SELECT COUNT(bid) \n",
    "        FROM Reserves R \n",
    "        WHERE S.sid=R.sid AND\n",
    "        R.bid IN (\n",
    "                   SELECT B.bid FROM Boats B WHERE B.color='red'\n",
    "                 )\n",
    "       )>=2\n",
    "'''\n",
    "\n",
    "res_table = cursor.execute(statement)\n",
    "print_query_res(res_table)\n",
    "\n"
   ]
  },
  {
   "cell_type": "markdown",
   "metadata": {},
   "source": [
    "Q17: For each boat (bid) which reserved by at least two unique sailors, find the average rating of the sailors who reserved it. Note: We count each sailor only once"
   ]
  },
  {
   "cell_type": "code",
   "execution_count": 66,
   "metadata": {},
   "outputs": [
    {
     "name": "stdout",
     "output_type": "stream",
     "text": [
      "['sid', 'AVG(T.rating)']\n",
      "--------------\n",
      "('22', 7.0)\n",
      "('31', 8.0)\n",
      "('64', 7.0)\n"
     ]
    }
   ],
   "source": [
    "#For each boat (bid) which reserved by at least two sailor \n",
    "#find the average rating of the sailors who reserved it. \n",
    "#Note: We count each sailor only once!\n",
    "\n",
    "statement = '''\n",
    "SELECT T.sid, AVG(T.rating) \n",
    "FROM  (SELECT DISTINCT S.sid,R.bid,S.rating\n",
    "       FROM Reserves R, Sailors S\n",
    "       WHERE R.sid=S.sid) AS T\n",
    "GROUP BY T.sid\n",
    "HAVING COUNT(sid)>=2\n",
    "'''\n",
    "\n",
    "res_table = cursor.execute(statement)\n",
    "print_query_res(res_table)\n",
    "\n",
    "\n"
   ]
  },
  {
   "cell_type": "markdown",
   "metadata": {},
   "source": [
    "Q18: Return the name of sailor(s) who reserved the highest number of boats"
   ]
  },
  {
   "cell_type": "code",
   "execution_count": 68,
   "metadata": {},
   "outputs": [
    {
     "name": "stdout",
     "output_type": "stream",
     "text": [
      "['sname']\n",
      "--------------\n",
      "('Dustin',)\n"
     ]
    }
   ],
   "source": [
    "statement = '''\n",
    "SELECT sname \n",
    "FROM Sailors S, Reserves R\n",
    "WHERE S.sid = R.sid \n",
    "GROUP BY S.sid, S.sname\n",
    "HAVING COUNT(*)=(SELECT MAX(T.c) \n",
    "                 FROM (SELECT R2.sid, COUNT(*) AS c \n",
    "                       FROM Reserves R2 \n",
    "                       GROUP BY R2.sid) AS T\n",
    "                 )\n",
    "'''\n",
    "\n",
    "\n",
    "res_table = cursor.execute(statement)\n",
    "print_query_res(res_table)\n"
   ]
  }
 ],
 "metadata": {
  "kernelspec": {
   "display_name": "Python 3",
   "language": "python",
   "name": "python3"
  },
  "language_info": {
   "codemirror_mode": {
    "name": "ipython",
    "version": 3
   },
   "file_extension": ".py",
   "mimetype": "text/x-python",
   "name": "python",
   "nbconvert_exporter": "python",
   "pygments_lexer": "ipython3",
   "version": "3.7.4"
  }
 },
 "nbformat": 4,
 "nbformat_minor": 4
}
